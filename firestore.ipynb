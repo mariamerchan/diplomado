{
  "nbformat": 4,
  "nbformat_minor": 0,
  "metadata": {
    "colab": {
      "name": "firestore.ipynb",
      "provenance": [],
      "collapsed_sections": []
    },
    "kernelspec": {
      "name": "python3",
      "display_name": "Python 3"
    }
  },
  "cells": [
    {
      "cell_type": "markdown",
      "metadata": {
        "id": "mxwD0YpZUcjN",
        "colab_type": "text"
      },
      "source": [
        "<h1>Introducción  a PYTHON</h1>\n",
        "\n",
        "Python es un lenguaje compilado al igual que R, las instrucciones de manejo son muy similares, la curva de aprendizaje es ráápida.\n",
        "\n",
        "<h2>Declaración de variables</h2>\n",
        " Python declara por defecto el tipo de datos que se esta asignando\n",
        "\n",
        " Para ejecutar un celda \"ctrl+ enter\"\n",
        "\n"
      ]
    },
    {
      "cell_type": "code",
      "metadata": {
        "id": "h-HVEKVNU-L0",
        "colab_type": "code",
        "colab": {
          "base_uri": "https://localhost:8080/",
          "height": 121
        },
        "outputId": "6cf054a6-f3b9-446a-af71-f67294f777c4"
      },
      "source": [
        "nombre=\"<Su nombre>\"#Declaracion de variable - Python asume que es tipo cadena\n",
        "edad=28#  Declaracion de variable - Python asume que es tipo entero\n",
        "carrera=\"<Su carrera>\"#Declaracion de variable - Python asume que es tipo cadena\n",
        "\n",
        "datos_personales=[\"<Su correo personal>\",\"<su número de celular>\",\"<su dirección  residencia>\"]\n",
        "# quitar comillas en numero de celular, Declaracion de arreglo Python asume los diferentes datos\n",
        "\n",
        "print(nombre)#Imprime su nombre\n",
        "print(edad)#Imprime su edad\n",
        "print(carrera)#Imprime su carrera\n",
        "\n",
        "print(datos_personales[0])#Imprime la posición 0 de los datos personales - correo personal \n",
        "print(datos_personales[1])#Imprime la posición 1 de los datos personales - número de celular\n",
        "print(datos_personales[2])#Imprime la posición 2 de los datos personales - direccińń"
      ],
      "execution_count": null,
      "outputs": [
        {
          "output_type": "stream",
          "text": [
            "<Su nombre>\n",
            "28\n",
            "<Su carrera>\n",
            "<Su correo personal>\n",
            "<su número de celular>\n",
            "<su dirección  residencia>\n"
          ],
          "name": "stdout"
        }
      ]
    },
    {
      "cell_type": "markdown",
      "metadata": {
        "id": "0wVVkWyNX8Jz",
        "colab_type": "text"
      },
      "source": [
        "<h2>Memorización de variables</h2>\n",
        "\n",
        "Cada vez que ejecuta una celda, las variables se mantienen en memoria en todo el notebook.\n",
        "\n",
        "<h2>Sentencias de Decisión</h2>\n",
        "\n",
        "La sentencias de decisión evaluán si una condición es verdadera o falsa.\n",
        "\n",
        "***La estructura es:\n",
        "\n",
        "<b>if</b>(<b>\\<nombre variable\\> \\<operador de comparación\\> \\<valor de comparación\\></b> ):\n",
        "<br>\n",
        "\\< conjunto de instrucciones 1\\>\n",
        "<br>\n",
        "\\< conjunto de instrucciones 2\\>\n",
        "<br>\n",
        "\\< conjunto de instrucciones 3\\>\n",
        "<br>\n",
        "....\n",
        "\n",
        "***O decisiones de si o no:\n",
        "\n",
        "<b>if</b>(<b>\\<nombre variable\\> \\<operador de comparación\\> \\<valor de comparación\\></b> ):\n",
        "<br>\n",
        "\\< conjunto de instrucciones 1\\>\n",
        "<br>\n",
        "\\< conjunto de instrucciones 2\\>\n",
        "<br>\n",
        "\\< conjunto de instrucciones 3\\>\n",
        "<br>\n",
        "....\n",
        "<br>\n",
        "<b>else</b>:\n",
        "<br>\n",
        "\\< conjunto de instrucciones 10\\>\n",
        "<br>\n",
        "\\< conjunto de instrucciones 11\\>\n",
        "<br>\n",
        "\\< conjunto de instrucciones 12\\>\n",
        "<br>\n",
        "....\n",
        "<br>\n",
        "\n",
        "***Instrucciones de decisión múltiples\n",
        "\n",
        "<b>if</b>(<b>\\<nombre variable\\> \\<operador de comparación\\> \\<valor de comparación\\></b> ):\n",
        "<br>\n",
        "\\< conjunto de instrucciones 1\\>\n",
        "<br>\n",
        "\\< conjunto de instrucciones 2\\>\n",
        "<br>\n",
        "\\< conjunto de instrucciones 3\\>\n",
        "<br>\n",
        "....\n",
        "<br>\n",
        "<b>elif</b>(<b>\\<nombre variable\\> \\<operador de comparación\\> \\<valor de comparación\\></b> ):\n",
        "<br>\n",
        "\\< conjunto de instrucciones 10\\>\n",
        "<br>\n",
        "\\< conjunto de instrucciones 11\\>\n",
        "<br>\n",
        "\\< conjunto de instrucciones 12\\>\n",
        "<br>\n",
        "....\n",
        "<br>\n",
        "<b>else</b>:\n",
        "<br>\n",
        "\\< conjunto de instrucciones 21\\>\n",
        "<br>\n",
        "\\< conjunto de instrucciones 21\\>\n",
        "<br>\n",
        "\\< conjunto de instrucciones 123\\>\n",
        "<br>\n",
        "....\n",
        "<br>\n",
        "\n",
        "\n"
      ]
    },
    {
      "cell_type": "code",
      "metadata": {
        "id": "1EM5LqoRaahO",
        "colab_type": "code",
        "colab": {
          "base_uri": "https://localhost:8080/",
          "height": 34
        },
        "outputId": "032503fb-9a3a-4d21-bac5-fac51f768130"
      },
      "source": [
        "if(edad>=18):\n",
        "    print(\"Usted es mayor de edad\")\n",
        "else:\n",
        "    print(\"Usted no es mayor de edad\")"
      ],
      "execution_count": null,
      "outputs": [
        {
          "output_type": "stream",
          "text": [
            "Usted es mayor de edad\n"
          ],
          "name": "stdout"
        }
      ]
    },
    {
      "cell_type": "markdown",
      "metadata": {
        "id": "DlhFcciYa1Jd",
        "colab_type": "text"
      },
      "source": [
        "<h2>Sentencias de repetición</h2>\n",
        "\n",
        "\n",
        "La sentencias de repetición se usan para realizar procesos reptitivos, para utilizar las sentencias decisión en python, existen palabras reservadas como:\n",
        "<ul>\n",
        "<li>while\n",
        "<li>for\n",
        "</ul>\n",
        "\n",
        "A continuación se usará un ciclo for para recorrer los datos personales:\n",
        "\n"
      ]
    },
    {
      "cell_type": "code",
      "metadata": {
        "id": "yqPktgOCa0AY",
        "colab_type": "code",
        "colab": {
          "base_uri": "https://localhost:8080/",
          "height": 69
        },
        "outputId": "4f69ead6-f89c-4a57-917f-df1ce71a340a"
      },
      "source": [
        "#EL algoritmo realiza una iteración por cada elemento de los datos personales\n",
        "for data in datos_personales:\n",
        "  print(data)\n",
        "\n",
        "  "
      ],
      "execution_count": null,
      "outputs": [
        {
          "output_type": "stream",
          "text": [
            "<Su correo personal>\n",
            "<su número de celular>\n",
            "<su dirección  residencia>\n"
          ],
          "name": "stdout"
        }
      ]
    },
    {
      "cell_type": "markdown",
      "metadata": {
        "id": "1rTzZoc5YuwD",
        "colab_type": "text"
      },
      "source": [
        "<b><H1>MANIPULACIÓN DE DATOS\n",
        " EN FIREBASE CON PYTHON</H1></b>\n",
        "\n",
        "Firebase: Es una plataforma para el desarrollo de las aplicaciones web y aplicaciones móviles creada por google.\n",
        "\n",
        "Esta plataforma, tiene un líímite de accesos (lectura y escritura limitado), para aumentar la presentación del servicio se debe pagar, también permite alojar páginas web de forma gratuita.\n",
        "\n",
        "Ejemplo:  [Semillero MAILAB ](https://mailab-79b6b.web.app/)\n",
        "\n",
        "Existen dos formar de almacenar información \n",
        "\n",
        "<ul>\n",
        "<li>FireStore\n",
        "<li>Real Time\n",
        "</ul>\n",
        "\n",
        "\n",
        "<b><h3>Fire-Store</h3></b>\n",
        "\n",
        "Base de datos NoSQL, gestionada en la nube que simplifica tareas de almacenamiento, sincronización y consulta de datos de aplicaciones web.\n",
        "Se recomienda usar cuando exista una baja latencia para compartir información de información entre los usuarios en tiempo real.\n",
        "\n",
        "<b><H4>Caracteristicas</H4></b>\n",
        "<ul>\n",
        "<li>El soporte offline se brinda tanto para aplicaciones móviles (Android, IOS), como para aplicaciones Web.\n",
        "<li>Permite combinar filtros, se pueden realizar consultar compuestas.\n",
        "<li>Soporta ordenamiento descendente\n",
        "<li>Escritura, modificacióón y eliminacióón en batch.\n",
        "<li>Maneja información de DataCenters, brindando escalabilidad.\n",
        "<li>La validación de datos se realiza de forma automáática.\n",
        "<li>El cobro se realiza por operaciones de escritura, lectura\n",
        "</ul>\n",
        "\n",
        "<b><h3>Real-Time Database</h3></b>\n",
        "\n",
        "Es una base de datos que almacena la información en objetos JSON, pero su estructura jerarquica se ve como un árbol.\n",
        "\n",
        "<b><H4>Caracteristicas</H4></b>\n",
        "<ul>\n",
        "<li>El soporte offline se brinda solo para aplicaciones móviles (Android, IOS).\n",
        "<li>Solo permite filtrar y ordenar por un campo.\n",
        "<li>Escritura en forma individual.\n",
        "<li>Es usada por empresas con varias transacciones por segundo.\n",
        "<li>Se deben establecer las validaciones, hay que realizarlas.\n",
        "<li>Cobro por tamaño de almacenamiento y ancho de banda.\n",
        "</ul>\n"
      ]
    },
    {
      "cell_type": "markdown",
      "metadata": {
        "id": "usq_jY_0AgOG",
        "colab_type": "text"
      },
      "source": [
        "<B><h2>FIREBASE- FIRESTORE</h2></B>"
      ]
    },
    {
      "cell_type": "markdown",
      "metadata": {
        "id": "VJbINtX-kza1",
        "colab_type": "text"
      },
      "source": [
        "<h2>OPERACIONES CRUD EN FIREBASE-FIRESTORE</h2>\n",
        "\n",
        "Acrónimo referencia a las operaciones fundamentales de las aplicaciones de Bases de Datos. \n",
        "<ul>\n",
        "<li><B>C</B>:CREATE (Crear Registros)\n",
        "<li><B>R</B>: READ  (Leer registros)\n",
        "<li><B>U</B>: UPDATE (Actulizar registros)\n",
        "<li><B>D</B>:DELETE (Borrar registros)\n",
        "</ul>\n",
        "Estas operaciones estan adaptadas a los requisitos del sistema y de usuario, ya sea para la gestión de información en bases de datos o para el uso de aplicaciones.\n",
        "\n",
        "\n",
        "[Documentación](https://firebase.google.com/docs/firestore?hl=es-419)\n"
      ]
    },
    {
      "cell_type": "markdown",
      "metadata": {
        "id": "jYT4nHJpaaAi",
        "colab_type": "text"
      },
      "source": [
        "**Instalación  de librerías para manipulación de Firebase-Firestore**\n",
        "\n",
        "\n",
        "En python se usa el comando pip para instalar librerías dentro del notebook, a continuación publican las líneas de código para la manipulación de datos de firebase.\n",
        "\n",
        "\n"
      ]
    },
    {
      "cell_type": "code",
      "metadata": {
        "id": "uoyvkgeoa3om",
        "colab_type": "code",
        "colab": {
          "base_uri": "https://localhost:8080/",
          "height": 1000
        },
        "outputId": "c7e45037-5281-471d-c502-5f2aa36f04cf"
      },
      "source": [
        "!pip install google-cloud-firestore\n",
        "!pip install python-firebase\n",
        "!pip install request"
      ],
      "execution_count": null,
      "outputs": [
        {
          "output_type": "stream",
          "text": [
            "Requirement already satisfied: google-cloud-firestore in /usr/local/lib/python3.6/dist-packages (1.7.0)\n",
            "Requirement already satisfied: google-api-core[grpc]<2.0.0dev,>=1.14.0 in /usr/local/lib/python3.6/dist-packages (from google-cloud-firestore) (1.16.0)\n",
            "Requirement already satisfied: pytz in /usr/local/lib/python3.6/dist-packages (from google-cloud-firestore) (2018.9)\n",
            "Requirement already satisfied: google-cloud-core<2.0dev,>=1.0.3 in /usr/local/lib/python3.6/dist-packages (from google-cloud-firestore) (1.0.3)\n",
            "Requirement already satisfied: protobuf>=3.4.0 in /usr/local/lib/python3.6/dist-packages (from google-api-core[grpc]<2.0.0dev,>=1.14.0->google-cloud-firestore) (3.10.0)\n",
            "Requirement already satisfied: setuptools>=34.0.0 in /usr/local/lib/python3.6/dist-packages (from google-api-core[grpc]<2.0.0dev,>=1.14.0->google-cloud-firestore) (47.3.1)\n",
            "Requirement already satisfied: googleapis-common-protos<2.0dev,>=1.6.0 in /usr/local/lib/python3.6/dist-packages (from google-api-core[grpc]<2.0.0dev,>=1.14.0->google-cloud-firestore) (1.52.0)\n",
            "Requirement already satisfied: google-auth<2.0dev,>=0.4.0 in /usr/local/lib/python3.6/dist-packages (from google-api-core[grpc]<2.0.0dev,>=1.14.0->google-cloud-firestore) (1.17.2)\n",
            "Requirement already satisfied: six>=1.10.0 in /usr/local/lib/python3.6/dist-packages (from google-api-core[grpc]<2.0.0dev,>=1.14.0->google-cloud-firestore) (1.12.0)\n",
            "Requirement already satisfied: requests<3.0.0dev,>=2.18.0 in /usr/local/lib/python3.6/dist-packages (from google-api-core[grpc]<2.0.0dev,>=1.14.0->google-cloud-firestore) (2.23.0)\n",
            "Requirement already satisfied: grpcio<2.0dev,>=1.8.2; extra == \"grpc\" in /usr/local/lib/python3.6/dist-packages (from google-api-core[grpc]<2.0.0dev,>=1.14.0->google-cloud-firestore) (1.29.0)\n",
            "Requirement already satisfied: rsa<5,>=3.1.4; python_version >= \"3\" in /usr/local/lib/python3.6/dist-packages (from google-auth<2.0dev,>=0.4.0->google-api-core[grpc]<2.0.0dev,>=1.14.0->google-cloud-firestore) (4.6)\n",
            "Requirement already satisfied: cachetools<5.0,>=2.0.0 in /usr/local/lib/python3.6/dist-packages (from google-auth<2.0dev,>=0.4.0->google-api-core[grpc]<2.0.0dev,>=1.14.0->google-cloud-firestore) (4.1.0)\n",
            "Requirement already satisfied: pyasn1-modules>=0.2.1 in /usr/local/lib/python3.6/dist-packages (from google-auth<2.0dev,>=0.4.0->google-api-core[grpc]<2.0.0dev,>=1.14.0->google-cloud-firestore) (0.2.8)\n",
            "Requirement already satisfied: idna<3,>=2.5 in /usr/local/lib/python3.6/dist-packages (from requests<3.0.0dev,>=2.18.0->google-api-core[grpc]<2.0.0dev,>=1.14.0->google-cloud-firestore) (2.9)\n",
            "Requirement already satisfied: urllib3!=1.25.0,!=1.25.1,<1.26,>=1.21.1 in /usr/local/lib/python3.6/dist-packages (from requests<3.0.0dev,>=2.18.0->google-api-core[grpc]<2.0.0dev,>=1.14.0->google-cloud-firestore) (1.24.3)\n",
            "Requirement already satisfied: certifi>=2017.4.17 in /usr/local/lib/python3.6/dist-packages (from requests<3.0.0dev,>=2.18.0->google-api-core[grpc]<2.0.0dev,>=1.14.0->google-cloud-firestore) (2020.4.5.2)\n",
            "Requirement already satisfied: chardet<4,>=3.0.2 in /usr/local/lib/python3.6/dist-packages (from requests<3.0.0dev,>=2.18.0->google-api-core[grpc]<2.0.0dev,>=1.14.0->google-cloud-firestore) (3.0.4)\n",
            "Requirement already satisfied: pyasn1>=0.1.3 in /usr/local/lib/python3.6/dist-packages (from rsa<5,>=3.1.4; python_version >= \"3\"->google-auth<2.0dev,>=0.4.0->google-api-core[grpc]<2.0.0dev,>=1.14.0->google-cloud-firestore) (0.4.8)\n",
            "Collecting python-firebase\n",
            "  Downloading https://files.pythonhosted.org/packages/32/e6/88b799753e64aeb0f24040b98c94012994cf9517c889dee4f8a49ac89400/python-firebase-1.2.tar.gz\n",
            "Requirement already satisfied: requests>=1.1.0 in /usr/local/lib/python3.6/dist-packages (from python-firebase) (2.23.0)\n",
            "Requirement already satisfied: certifi>=2017.4.17 in /usr/local/lib/python3.6/dist-packages (from requests>=1.1.0->python-firebase) (2020.4.5.2)\n",
            "Requirement already satisfied: chardet<4,>=3.0.2 in /usr/local/lib/python3.6/dist-packages (from requests>=1.1.0->python-firebase) (3.0.4)\n",
            "Requirement already satisfied: urllib3!=1.25.0,!=1.25.1,<1.26,>=1.21.1 in /usr/local/lib/python3.6/dist-packages (from requests>=1.1.0->python-firebase) (1.24.3)\n",
            "Requirement already satisfied: idna<3,>=2.5 in /usr/local/lib/python3.6/dist-packages (from requests>=1.1.0->python-firebase) (2.9)\n",
            "Building wheels for collected packages: python-firebase\n",
            "  Building wheel for python-firebase (setup.py) ... \u001b[?25l\u001b[?25hdone\n",
            "  Created wheel for python-firebase: filename=python_firebase-1.2-cp36-none-any.whl size=11535 sha256=1e3538dcac89b3c6076fa6ed61d3dfcfa15c41fa8ddb195546bd7efff144442b\n",
            "  Stored in directory: /root/.cache/pip/wheels/ba/40/ca/e41a25d7abb787092e837cb0f91f33b04b1a8fd9d17c2d33a6\n",
            "Successfully built python-firebase\n",
            "Installing collected packages: python-firebase\n",
            "Successfully installed python-firebase-1.2\n",
            "Collecting request\n",
            "  Downloading https://files.pythonhosted.org/packages/f1/27/7cbde262d854aedf217061a97020d66a63163c5c04e0ec02ff98c5d8f44e/request-2019.4.13.tar.gz\n",
            "Collecting get\n",
            "  Downloading https://files.pythonhosted.org/packages/3f/ef/bb46f77f7220ac1b7edba0c76d810c89fddb24ddd8c08f337b9b4a618db7/get-2019.4.13.tar.gz\n",
            "Collecting post\n",
            "  Downloading https://files.pythonhosted.org/packages/0f/05/bd79da5849ea6a92485ed7029ef97b1b75e55c26bc0ed3a7ec769af666f3/post-2019.4.13.tar.gz\n",
            "Requirement already satisfied: setuptools in /usr/local/lib/python3.6/dist-packages (from request) (47.3.1)\n",
            "Collecting query_string\n",
            "  Downloading https://files.pythonhosted.org/packages/12/3c/412a45daf5bea9b1d06d7de41787ec4168001dfa418db7ec8723356b119f/query-string-2019.4.13.tar.gz\n",
            "Collecting public\n",
            "  Downloading https://files.pythonhosted.org/packages/54/4d/b40004cc6c07665e48af22cfe1e631f219bf4282e15fa76a5b6364f6885c/public-2019.4.13.tar.gz\n",
            "Building wheels for collected packages: request, get, post, query-string, public\n",
            "  Building wheel for request (setup.py) ... \u001b[?25l\u001b[?25hdone\n",
            "  Created wheel for request: filename=request-2019.4.13-cp36-none-any.whl size=1677 sha256=121f970e1e9a0a0bedc5665378b3d89f188c30f692a30b17bcc4d80986298c25\n",
            "  Stored in directory: /root/.cache/pip/wheels/30/84/5f/484cfba678967ef58c16fce6890925d5c7172622f20111fbfd\n",
            "  Building wheel for get (setup.py) ... \u001b[?25l\u001b[?25hdone\n",
            "  Created wheel for get: filename=get-2019.4.13-cp36-none-any.whl size=1692 sha256=745a8f2ab9aba8a4f4034ffcf80459ba11fe5ef7360a9d92b1fd772041b808a2\n",
            "  Stored in directory: /root/.cache/pip/wheels/c1/e3/c1/d02c8c58538853e4c9b78cadb74f6d5c5c370b48a69a7271aa\n",
            "  Building wheel for post (setup.py) ... \u001b[?25l\u001b[?25hdone\n",
            "  Created wheel for post: filename=post-2019.4.13-cp36-none-any.whl size=1661 sha256=8abf0f835a31ef0d4f44c815635b6bad1c51e0fdc34496cd713e66d5c1b7cf40\n",
            "  Stored in directory: /root/.cache/pip/wheels/c3/c3/24/b5c132b537ab380c02d69e6bd4dec1f5db56b5fe19030473d7\n",
            "  Building wheel for query-string (setup.py) ... \u001b[?25l\u001b[?25hdone\n",
            "  Created wheel for query-string: filename=query_string-2019.4.13-cp36-none-any.whl size=2049 sha256=cbcf5cd30d4f50c53d37b190d0a99d3f3f341d1c01630b2bf0884a7b1999e19d\n",
            "  Stored in directory: /root/.cache/pip/wheels/d6/a4/78/01b20a9dc224dcc009fab669f7f27b943b8889c5150bd68d8a\n",
            "  Building wheel for public (setup.py) ... \u001b[?25l\u001b[?25hdone\n",
            "  Created wheel for public: filename=public-2019.4.13-cp36-none-any.whl size=2537 sha256=8fbf89f1272e761efa7e042bc746845e1e7ee95269634a83aa5ea3e7861b34c6\n",
            "  Stored in directory: /root/.cache/pip/wheels/23/7c/6e/f5b4e09d6596c8b8802b347e48f149031e2363368048f1347a\n",
            "Successfully built request get post query-string public\n",
            "Installing collected packages: public, query-string, get, post, request\n",
            "Successfully installed get-2019.4.13 post-2019.4.13 public-2019.4.13 query-string-2019.4.13 request-2019.4.13\n"
          ],
          "name": "stdout"
        }
      ]
    },
    {
      "cell_type": "markdown",
      "metadata": {
        "id": "gGg3AJnCd0KT",
        "colab_type": "text"
      },
      "source": [
        "**Importación de librerías**\n",
        "\n",
        "En python se usa el comando <b>import</b> para incorporar las librerías instaladas en la ejecución de los fragmentos de código en Python.  \n",
        "\n"
      ]
    },
    {
      "cell_type": "code",
      "metadata": {
        "id": "YUqqNHfHeEgO",
        "colab_type": "code",
        "colab": {}
      },
      "source": [
        "import firebase_admin\n",
        "import google.cloud\n",
        "from firebase_admin import credentials, firestore"
      ],
      "execution_count": null,
      "outputs": []
    },
    {
      "cell_type": "markdown",
      "metadata": {
        "id": "lfA3M1_peGNm",
        "colab_type": "text"
      },
      "source": [
        "**Inicialización de credenciales**\n",
        "Las credenciales de Firebase son necesarias para la autenticación de la aplicación frente al uso de servicios en Firebase, para ello:\n",
        "\n",
        "<p>Ir a Firebase,descargar documento JSON con las\n",
        "credenciales para conectarse con la base de datos y\n",
        "subir el archivo en el panel izquierdo de Colab</p>."
      ]
    },
    {
      "cell_type": "code",
      "metadata": {
        "id": "BB9uyu-UfJG1",
        "colab_type": "code",
        "colab": {}
      },
      "source": [
        "cred = credentials.Certificate(\"credentials.json\")\n",
        "app = firebase_admin.initialize_app(cred)\n",
        "db = firestore.client()"
      ],
      "execution_count": null,
      "outputs": []
    },
    {
      "cell_type": "markdown",
      "metadata": {
        "id": "1UHyCt-zfO-n",
        "colab_type": "text"
      },
      "source": [
        "**Creación de Documentos en Firebase**\n",
        "<br>\n",
        "Para la creación de registros en Firebase, se debe tener en cuenta el nombre de la colección y el nombre del registro, con los respectivos atributos.\n",
        "\n",
        "```\n",
        "# Tiene formato de código\n",
        "```\n",
        "\n",
        "\n",
        "\n",
        "<p>Creamos un nuevo documento llamado 'estudiante'\n",
        "dentro de la colección 'practica' y añadimos los datos <p>\n"
      ]
    },
    {
      "cell_type": "code",
      "metadata": {
        "id": "lchCHFDBhT2Z",
        "colab_type": "code",
        "colab": {
          "base_uri": "https://localhost:8080/",
          "height": 86
        },
        "outputId": "2c83f726-7b92-4234-f7f7-aa4c4472d13e"
      },
      "source": [
        "#create\n",
        "doc_ref = db.collection(u'practica').document(u'estudiante1')\n",
        "\n",
        "data={\n",
        "    u'nombre': u'Maria',\n",
        "    u'apellido': u'Gomez',\n",
        "    u'carrera': u'Sistemas',\n",
        "    u'nacimiento': 1990\n",
        "}\n",
        "doc_ref.set(data)\n",
        "doc_ref = db.collection(u'practica').document(u'estudiante2')\n",
        "data2={\n",
        "    u'nombre': u'Francisco',\n",
        "    u'apellido': u'Gomez',\n",
        "    u'carrera': u'Ciencias',\n",
        "    u'nacimiento': 1980\n",
        "}\n",
        "\n",
        "\n",
        "doc_ref.set(data2)"
      ],
      "execution_count": null,
      "outputs": [
        {
          "output_type": "execute_result",
          "data": {
            "text/plain": [
              "update_time {\n",
              "  seconds: 1592631860\n",
              "  nanos: 34564000\n",
              "}"
            ]
          },
          "metadata": {
            "tags": []
          },
          "execution_count": 18
        }
      ]
    },
    {
      "cell_type": "markdown",
      "metadata": {
        "id": "mt6OyT2vh5mA",
        "colab_type": "text"
      },
      "source": [
        "**Lectura de Documentos en Firebase**\n",
        "<p>Leer los datos que se encuentran en la colección 'practica', se usa un for para imprimir los valores de la colección.<p>"
      ]
    },
    {
      "cell_type": "code",
      "metadata": {
        "id": "qTQpECeAh7ES",
        "colab_type": "code",
        "colab": {
          "base_uri": "https://localhost:8080/",
          "height": 69
        },
        "outputId": "e3dd45ae-4461-4076-94be-b2f051a38294"
      },
      "source": [
        "#read\n",
        "users_ref = db.collection(u'practica')\n",
        "docs = users_ref.stream()\n",
        "for doc in docs:\n",
        "    print(u'{} => {}'.format(doc.id, doc.to_dict()))"
      ],
      "execution_count": null,
      "outputs": [
        {
          "output_type": "stream",
          "text": [
            "estudiante => {'nombre': 'Francisco', 'apellido': 'Gomez', 'nacimiento': 1980, 'carrera': 'Ciencias'}\n",
            "estudiante1 => {'nombre': 'Maria', 'apellido': 'Gomez', 'nacimiento': 1990, 'carrera': 'Sistemas'}\n",
            "estudiante2 => {'nombre': 'Francisco', 'apellido': 'Gomez', 'nacimiento': 1980, 'carrera': 'Ciencias'}\n"
          ],
          "name": "stdout"
        }
      ]
    },
    {
      "cell_type": "markdown",
      "metadata": {
        "id": "aGEzinQ4i2fa",
        "colab_type": "text"
      },
      "source": [
        "**Actualización de Documentos en Firebase**\n",
        "\n",
        "<br>\n",
        "Para la actualización de documentos en Firebase, se debe tener en cuenta el nombre de la colección y el nombre del documento, con los respectivos atributos actualizar.\n",
        "Actualizamos los campos creados anteriormente y añadimos dos campos nuevos (ciudad y pais)."
      ]
    },
    {
      "cell_type": "code",
      "metadata": {
        "id": "UATaE6pajZ8L",
        "colab_type": "code",
        "colab": {
          "base_uri": "https://localhost:8080/",
          "height": 86
        },
        "outputId": "d50247ce-0c34-47b7-b002-59a0065b3ca2"
      },
      "source": [
        "#update\n",
        "new = db.collection(u'practica').document(u'estudiante')\n",
        "new.update({u'ciudad': 'Bogota',\n",
        "            u'pais':'Colombia',\n",
        "            u'nacimiento': 1987})"
      ],
      "execution_count": null,
      "outputs": [
        {
          "output_type": "execute_result",
          "data": {
            "text/plain": [
              "update_time {\n",
              "  seconds: 1592631557\n",
              "  nanos: 722564000\n",
              "}"
            ]
          },
          "metadata": {
            "tags": []
          },
          "execution_count": 13
        }
      ]
    },
    {
      "cell_type": "markdown",
      "metadata": {
        "id": "xnZhoq83nHea",
        "colab_type": "text"
      },
      "source": [
        "**Eliminación de Atributos en Documentos en Firebase**\n",
        "\n",
        "<br>\n",
        "Para la eliminación del atributo pais en el documento estudiante en Firebase, se debe tener en cuenta el nombre de la colección y el nombre del documento.<br>\n",
        "\n",
        "Eliminar campo pais de documento 'estudiante'"
      ]
    },
    {
      "cell_type": "code",
      "metadata": {
        "id": "XuvOxTylYPYH",
        "colab_type": "code",
        "colab": {
          "base_uri": "https://localhost:8080/",
          "height": 90
        },
        "outputId": "e3456919-6c06-48da-ae5e-6de38ad497b9"
      },
      "source": [
        "#delete\n",
        "dell = db.collection(u'practica').document(u'estudiante')\n",
        "dell.update({\n",
        "    u'pais': firestore.DELETE_FIELD\n",
        "})"
      ],
      "execution_count": null,
      "outputs": [
        {
          "output_type": "execute_result",
          "data": {
            "text/plain": [
              "update_time {\n",
              "  seconds: 1592553506\n",
              "  nanos: 333270000\n",
              "}"
            ]
          },
          "metadata": {
            "tags": []
          },
          "execution_count": 11
        }
      ]
    },
    {
      "cell_type": "markdown",
      "metadata": {
        "id": "KwT847JkOdu-",
        "colab_type": "text"
      },
      "source": [
        "**Eliminación de Documentos en Firebase**\n",
        "\n",
        "<br>\n",
        "Para la eliminación del documento estudiante en Firebase, se debe tener en cuenta el nombre de la colección y el nombre del documento.<br>\n",
        "Eliminar documento de 'estudiante'"
      ]
    },
    {
      "cell_type": "code",
      "metadata": {
        "id": "ZFoBjyFwOe-A",
        "colab_type": "code",
        "colab": {
          "base_uri": "https://localhost:8080/",
          "height": 52
        },
        "outputId": "568c7818-d9b2-4481-e797-1c80b8d8b85d"
      },
      "source": [
        "db.collection(u'practica').document(u'estudiante').delete()"
      ],
      "execution_count": null,
      "outputs": [
        {
          "output_type": "execute_result",
          "data": {
            "text/plain": [
              "seconds: 1592631891\n",
              "nanos: 945693000"
            ]
          },
          "metadata": {
            "tags": []
          },
          "execution_count": 20
        }
      ]
    }
  ]
}