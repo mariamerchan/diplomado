{
 "cells": [
  {
   "cell_type": "markdown",
   "metadata": {
    "colab_type": "text",
    "id": "mxwD0YpZUcjN"
   },
   "source": [
    "<h1>Introducción  a PYTHON</h1>\n",
    "\n",
    "Python es un lenguaje compilado al igual que R, las instrucciones de manejo son muy similares, la curva de aprendizaje es ráápida.\n",
    "\n",
    "<h2>Declaración de variables</h2>\n",
    " Python declara por defecto el tipo de datos que se esta asignando\n",
    "\n",
    " Para ejecutar un celda \"ctrl+ enter\"\n",
    "\n"
   ]
  },
  {
   "cell_type": "code",
   "execution_count": null,
   "metadata": {
    "colab": {
     "base_uri": "https://localhost:8080/",
     "height": 121
    },
    "colab_type": "code",
    "id": "h-HVEKVNU-L0",
    "outputId": "6cf054a6-f3b9-446a-af71-f67294f777c4"
   },
   "outputs": [
    {
     "name": "stdout",
     "output_type": "stream",
     "text": [
      "<Su nombre>\n",
      "28\n",
      "<Su carrera>\n",
      "<Su correo personal>\n",
      "<su número de celular>\n",
      "<su dirección  residencia>\n"
     ]
    }
   ],
   "source": [
    "nombre=\"<Su nombre>\"#Declaracion de variable - Python asume que es tipo cadena\n",
    "edad=28#  Declaracion de variable - Python asume que es tipo entero\n",
    "carrera=\"<Su carrera>\"#Declaracion de variable - Python asume que es tipo cadena\n",
    "\n",
    "datos_personales=[\"<Su correo personal>\",\"<su número de celular>\",\"<su dirección  residencia>\"]\n",
    "# quitar comillas en numero de celular, Declaracion de arreglo Python asume los diferentes datos\n",
    "\n",
    "print(nombre)#Imprime su nombre\n",
    "print(edad)#Imprime su edad\n",
    "print(carrera)#Imprime su carrera\n",
    "\n",
    "print(datos_personales[0])#Imprime la posición 0 de los datos personales - correo personal \n",
    "print(datos_personales[1])#Imprime la posición 1 de los datos personales - número de celular\n",
    "print(datos_personales[2])#Imprime la posición 2 de los datos personales - direccińń"
   ]
  },
  {
   "cell_type": "markdown",
   "metadata": {
    "colab_type": "text",
    "id": "0wVVkWyNX8Jz"
   },
   "source": [
    "<h2>Memorización de variables</h2>\n",
    "\n",
    "Cada vez que ejecuta una celda, las variables se mantienen en memoria en todo el notebook.\n",
    "\n",
    "<h2>Sentencias de Decisión</h2>\n",
    "\n",
    "La sentencias de decisión evaluán si una condición es verdadera o falsa.\n",
    "\n",
    "La estructura de una sentencia de decisión simple:\n",
    "\n",
    "\n",
    "\n"
   ]
  },
  {
   "cell_type": "code",
   "execution_count": null,
   "metadata": {
    "colab": {},
    "colab_type": "code",
    "id": "14tzxKySkMSo"
   },
   "outputs": [],
   "source": [
    "#if(<sentencia de decisión>):\n",
    "    #<instrucción 1>\n",
    "    #<instrucción 2>\n",
    "    #<instrucción 3>"
   ]
  },
  {
   "cell_type": "markdown",
   "metadata": {
    "colab_type": "text",
    "id": "wMubxFTwkb6A"
   },
   "source": [
    "La estructura de una sentencia de decisión else:"
   ]
  },
  {
   "cell_type": "code",
   "execution_count": null,
   "metadata": {
    "colab": {},
    "colab_type": "code",
    "id": "TXUmcYC1kjAj"
   },
   "outputs": [],
   "source": [
    "#if(<sentencia de decisión>):\n",
    "    #<instrucción 1>\n",
    "    #<instrucción 2>\n",
    "    #<instrucción 3>\n",
    "    #......\n",
    "#else:\n",
    "    #<instrucción 1>\n",
    "    #<instrucción 2>\n",
    "    #<instrucción 3>\n",
    "    #......"
   ]
  },
  {
   "cell_type": "markdown",
   "metadata": {
    "colab_type": "text",
    "id": "m6YkEpvOkxJP"
   },
   "source": [
    "La estructura de una sentencia de decisión múltiple: "
   ]
  },
  {
   "cell_type": "code",
   "execution_count": null,
   "metadata": {
    "colab": {},
    "colab_type": "code",
    "id": "nGwN6j9vk25I"
   },
   "outputs": [],
   "source": [
    "#if(<sentencia de decisión>):\n",
    "    #<instrucción 1>\n",
    "    #<instrucción 2>\n",
    "    #<instrucción 3>\n",
    "    #......\n",
    "#elif(<sentencia de decisión>):\n",
    "    #<instrucción 1>\n",
    "    #<instrucción 2>\n",
    "    #<instrucción 3>\n",
    "    #......\n",
    "#elif(<sentencia de decisión>):\n",
    "    #<instrucción 1>\n",
    "    #<instrucción 2>\n",
    "    #<instrucción 3>\n",
    "    #......\n",
    "#else:\n",
    "    #<instrucción 1>\n",
    "    #<instrucción 2>\n",
    "    #<instrucción 3>\n",
    "    #......"
   ]
  },
  {
   "cell_type": "markdown",
   "metadata": {
    "colab_type": "text",
    "id": "TMv-RH3Zk89p"
   },
   "source": [
    "**Ejemplo de sentencia de decisión con variable**"
   ]
  },
  {
   "cell_type": "code",
   "execution_count": null,
   "metadata": {
    "colab": {
     "base_uri": "https://localhost:8080/",
     "height": 34
    },
    "colab_type": "code",
    "id": "1EM5LqoRaahO",
    "outputId": "032503fb-9a3a-4d21-bac5-fac51f768130"
   },
   "outputs": [
    {
     "name": "stdout",
     "output_type": "stream",
     "text": [
      "Usted es mayor de edad\n"
     ]
    }
   ],
   "source": [
    "if(edad>=18):\n",
    "    print(\"Usted es mayor de edad\")\n",
    "else:\n",
    "    print(\"Usted no es mayor de edad\")"
   ]
  },
  {
   "cell_type": "markdown",
   "metadata": {
    "colab_type": "text",
    "id": "DlhFcciYa1Jd"
   },
   "source": [
    "<h2>Sentencias de repetición</h2>\n",
    "\n",
    "\n",
    "La sentencias de repetición se usan para realizar procesos reptitivos, para utilizar las sentencias decisión en python, existen palabras reservadas como:\n",
    "<ul>\n",
    "<li>while\n",
    "<li>for\n",
    "</ul>\n",
    "\n",
    "A continuación se usará un ciclo for para recorrer los datos personales:\n",
    "\n"
   ]
  },
  {
   "cell_type": "code",
   "execution_count": null,
   "metadata": {
    "colab": {
     "base_uri": "https://localhost:8080/",
     "height": 69
    },
    "colab_type": "code",
    "id": "yqPktgOCa0AY",
    "outputId": "4f69ead6-f89c-4a57-917f-df1ce71a340a"
   },
   "outputs": [
    {
     "name": "stdout",
     "output_type": "stream",
     "text": [
      "<Su correo personal>\n",
      "<su número de celular>\n",
      "<su dirección  residencia>\n"
     ]
    }
   ],
   "source": [
    "#EL algoritmo realiza una iteración por cada elemento de los datos personales\n",
    "for data in datos_personales:\n",
    "  print(data)\n",
    "\n",
    "  "
   ]
  }
 ],
 "metadata": {
  "colab": {
   "collapsed_sections": [],
   "name": "firestore.ipynb",
   "provenance": []
  },
  "kernelspec": {
   "display_name": "Python 3",
   "language": "python",
   "name": "python3"
  },
  "language_info": {
   "codemirror_mode": {
    "name": "ipython",
    "version": 3
   },
   "file_extension": ".py",
   "mimetype": "text/x-python",
   "name": "python",
   "nbconvert_exporter": "python",
   "pygments_lexer": "ipython3",
   "version": "3.8.5"
  }
 },
 "nbformat": 4,
 "nbformat_minor": 1
}
