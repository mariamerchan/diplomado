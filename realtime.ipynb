{
  "nbformat": 4,
  "nbformat_minor": 0,
  "metadata": {
    "colab": {
      "name": "realtime.ipynb",
      "provenance": [],
      "collapsed_sections": []
    },
    "kernelspec": {
      "name": "python3",
      "display_name": "Python 3"
    }
  },
  "cells": [
    {
      "cell_type": "markdown",
      "metadata": {
        "id": "4ee5-PsfA1D_",
        "colab_type": "text"
      },
      "source": [
        "<B><h2>FIREBASE- REAL TIME</h2></B>"
      ]
    },
    {
      "cell_type": "markdown",
      "metadata": {
        "id": "RZ_XtmHard_S",
        "colab_type": "text"
      },
      "source": [
        "<H2>OPERACIONES FUNDAMENTALES EN FIREBASE-REALTIME CON PYTHON</H2>\n",
        "<B>C:CREATE, R: READ, U: UPDATE, D:DELETE</B>\n",
        "\n",
        "<H9>SE HARÁ UNA IMPLEMENTACIÓN DE UN CRUD EN PYTHON CON REALTIME DATABASE DE FIREBASE</H9>\n",
        "<P>Documentación:https://firebase.google.com/docs/firestore?hl=es-419</P>"
      ]
    },
    {
      "cell_type": "markdown",
      "metadata": {
        "id": "9Yt-kx1cr3Wy",
        "colab_type": "text"
      },
      "source": [
        "**Instalación  de librerías para manipulación de Firebase-RealTime**\n",
        "\n",
        "En python se usa el comando pip para instalar librerías dentro del notebook, a continuación publican las líneas de código para la manipulación de datos de firebase.\n"
      ]
    },
    {
      "cell_type": "code",
      "metadata": {
        "id": "l4Naz7iVk_Kz",
        "colab_type": "code",
        "colab": {
          "base_uri": "https://localhost:8080/",
          "height": 1000
        },
        "outputId": "a3c47dcf-68b8-4b21-88de-ea81b3534cfc"
      },
      "source": [
        "!pip install pyrebase\n",
        "!pip install firebase-admin\n"
      ],
      "execution_count": null,
      "outputs": [
        {
          "output_type": "stream",
          "text": [
            "Collecting pyrebase\n",
            "  Downloading https://files.pythonhosted.org/packages/4e/1f/86ec68bfe0d6ffeadbab2ab0651ddf1c7206a0c4421b39baeb69b3a9c5cd/Pyrebase-3.0.27-py3-none-any.whl\n",
            "Collecting pycryptodome==3.4.3\n",
            "\u001b[?25l  Downloading https://files.pythonhosted.org/packages/45/ef/4514a01be3d8f5383cd12fc5612ffd8a2508ac7e7ff6bde2da708e71c9a3/pycryptodome-3.4.3.tar.gz (6.5MB)\n",
            "\u001b[K     |████████████████████████████████| 6.5MB 3.0MB/s \n",
            "\u001b[?25hCollecting gcloud==0.17.0\n",
            "\u001b[?25l  Downloading https://files.pythonhosted.org/packages/0f/9d/56ecba02b4c117a43a906098095bccaea94d3edf57cb407c071efd87002f/gcloud-0.17.0.tar.gz (458kB)\n",
            "\u001b[K     |████████████████████████████████| 460kB 42.5MB/s \n",
            "\u001b[?25hCollecting oauth2client==3.0.0\n",
            "\u001b[?25l  Downloading https://files.pythonhosted.org/packages/c0/7b/bc893e35d6ca46a72faa4b9eaac25c687ce60e1fbe978993fe2de1b0ff0d/oauth2client-3.0.0.tar.gz (77kB)\n",
            "\u001b[K     |████████████████████████████████| 81kB 9.2MB/s \n",
            "\u001b[?25hCollecting requests==2.11.1\n",
            "\u001b[?25l  Downloading https://files.pythonhosted.org/packages/ea/03/92d3278bf8287c5caa07dbd9ea139027d5a3592b0f4d14abf072f890fab2/requests-2.11.1-py2.py3-none-any.whl (514kB)\n",
            "\u001b[K     |████████████████████████████████| 522kB 44.4MB/s \n",
            "\u001b[?25hCollecting python-jwt==2.0.1\n",
            "  Downloading https://files.pythonhosted.org/packages/dd/2a/9c4230b09f63737e7beb34e3a19895cd50c5ff88af16d3cd54cd71e2325a/python_jwt-2.0.1-py2.py3-none-any.whl\n",
            "Collecting requests-toolbelt==0.7.0\n",
            "\u001b[?25l  Downloading https://files.pythonhosted.org/packages/57/60/cc85ca45c85585191e70e21687aeaa74ec4e555a1404628ba77b8af7d92e/requests_toolbelt-0.7.0-py2.py3-none-any.whl (52kB)\n",
            "\u001b[K     |████████████████████████████████| 61kB 7.5MB/s \n",
            "\u001b[?25hRequirement already satisfied: httplib2>=0.9.1 in /usr/local/lib/python3.6/dist-packages (from gcloud==0.17.0->pyrebase) (0.17.4)\n",
            "Requirement already satisfied: googleapis-common-protos in /usr/local/lib/python3.6/dist-packages (from gcloud==0.17.0->pyrebase) (1.52.0)\n",
            "Requirement already satisfied: protobuf!=3.0.0.b2.post1,>=3.0.0b2 in /usr/local/lib/python3.6/dist-packages (from gcloud==0.17.0->pyrebase) (3.10.0)\n",
            "Requirement already satisfied: six in /usr/local/lib/python3.6/dist-packages (from gcloud==0.17.0->pyrebase) (1.12.0)\n",
            "Requirement already satisfied: pyasn1>=0.1.7 in /usr/local/lib/python3.6/dist-packages (from oauth2client==3.0.0->pyrebase) (0.4.8)\n",
            "Requirement already satisfied: pyasn1-modules>=0.0.5 in /usr/local/lib/python3.6/dist-packages (from oauth2client==3.0.0->pyrebase) (0.2.8)\n",
            "Requirement already satisfied: rsa>=3.1.4 in /usr/local/lib/python3.6/dist-packages (from oauth2client==3.0.0->pyrebase) (4.6)\n",
            "Collecting jws>=0.1.3\n",
            "  Downloading https://files.pythonhosted.org/packages/01/9e/1536d578ed50f5fe8196310ddcc921a3cd8e973312d60ac74488b805d395/jws-0.1.3.tar.gz\n",
            "Requirement already satisfied: setuptools in /usr/local/lib/python3.6/dist-packages (from protobuf!=3.0.0.b2.post1,>=3.0.0b2->gcloud==0.17.0->pyrebase) (47.3.1)\n",
            "Building wheels for collected packages: pycryptodome, gcloud, oauth2client, jws\n",
            "  Building wheel for pycryptodome (setup.py) ... \u001b[?25l\u001b[?25hdone\n",
            "  Created wheel for pycryptodome: filename=pycryptodome-3.4.3-cp36-cp36m-linux_x86_64.whl size=6813174 sha256=6aafc2d808c2559e8d61389ef9ce6f1d0987a7cdde5905433c0173e3f0a2e2ef\n",
            "  Stored in directory: /root/.cache/pip/wheels/8f/9d/63/f6aea5612d1682a50b25857b0358e2ecec878a0bc42ba3af4c\n",
            "  Building wheel for gcloud (setup.py) ... \u001b[?25l\u001b[?25hdone\n",
            "  Created wheel for gcloud: filename=gcloud-0.17.0-cp36-none-any.whl size=638014 sha256=d97508eefd23589f7e7892ad23c50cfc281abbc5879371b74ad3cac5df81bd4d\n",
            "  Stored in directory: /root/.cache/pip/wheels/b9/04/ff/66c87c7e2419fd477f52015468ec5301d9480b6f3896babda4\n",
            "  Building wheel for oauth2client (setup.py) ... \u001b[?25l\u001b[?25hdone\n",
            "  Created wheel for oauth2client: filename=oauth2client-3.0.0-cp36-none-any.whl size=106382 sha256=42fd90ae507df9e99e5ac53d577e49657302944f33c52cf40c2ed691a148a7da\n",
            "  Stored in directory: /root/.cache/pip/wheels/48/f7/87/b932f09c6335dbcf45d916937105a372ab14f353a9ca431d7d\n",
            "  Building wheel for jws (setup.py) ... \u001b[?25l\u001b[?25hdone\n",
            "  Created wheel for jws: filename=jws-0.1.3-cp36-none-any.whl size=9412 sha256=b59ffe201cf01659950aacf73305cafce7af86ace5fdd16a6baa1855955ddc34\n",
            "  Stored in directory: /root/.cache/pip/wheels/42/66/97/11aed97607cb2379c1d35d02bdc159bcc3918eb0cc20f7eb9a\n",
            "Successfully built pycryptodome gcloud oauth2client jws\n",
            "\u001b[31mERROR: tensorflow-datasets 2.1.0 has requirement requests>=2.19.0, but you'll have requests 2.11.1 which is incompatible.\u001b[0m\n",
            "\u001b[31mERROR: tensorboard 2.2.2 has requirement requests<3,>=2.21.0, but you'll have requests 2.11.1 which is incompatible.\u001b[0m\n",
            "\u001b[31mERROR: spacy 2.2.4 has requirement requests<3.0.0,>=2.13.0, but you'll have requests 2.11.1 which is incompatible.\u001b[0m\n",
            "\u001b[31mERROR: pydrive 1.3.1 has requirement oauth2client>=4.0.0, but you'll have oauth2client 3.0.0 which is incompatible.\u001b[0m\n",
            "\u001b[31mERROR: google-colab 1.0.0 has requirement requests~=2.23.0, but you'll have requests 2.11.1 which is incompatible.\u001b[0m\n",
            "\u001b[31mERROR: google-api-core 1.16.0 has requirement requests<3.0.0dev,>=2.18.0, but you'll have requests 2.11.1 which is incompatible.\u001b[0m\n",
            "\u001b[31mERROR: datascience 0.10.6 has requirement folium==0.2.1, but you'll have folium 0.8.3 which is incompatible.\u001b[0m\n",
            "Installing collected packages: pycryptodome, oauth2client, gcloud, requests, jws, python-jwt, requests-toolbelt, pyrebase\n",
            "  Found existing installation: oauth2client 4.1.3\n",
            "    Uninstalling oauth2client-4.1.3:\n",
            "      Successfully uninstalled oauth2client-4.1.3\n",
            "  Found existing installation: requests 2.23.0\n",
            "    Uninstalling requests-2.23.0:\n",
            "      Successfully uninstalled requests-2.23.0\n",
            "Successfully installed gcloud-0.17.0 jws-0.1.3 oauth2client-3.0.0 pycryptodome-3.4.3 pyrebase-3.0.27 python-jwt-2.0.1 requests-2.11.1 requests-toolbelt-0.7.0\n"
          ],
          "name": "stdout"
        },
        {
          "output_type": "display_data",
          "data": {
            "application/vnd.colab-display-data+json": {
              "pip_warning": {
                "packages": [
                  "requests"
                ]
              }
            }
          },
          "metadata": {
            "tags": []
          }
        },
        {
          "output_type": "stream",
          "text": [
            "Requirement already satisfied: firebase-admin in /usr/local/lib/python3.6/dist-packages (4.1.0)\n",
            "Requirement already satisfied: cachecontrol>=0.12.6 in /usr/local/lib/python3.6/dist-packages (from firebase-admin) (0.12.6)\n",
            "Requirement already satisfied: google-api-core[grpc]<2.0.0dev,>=1.14.0; platform_python_implementation != \"PyPy\" in /usr/local/lib/python3.6/dist-packages (from firebase-admin) (1.16.0)\n",
            "Requirement already satisfied: google-cloud-firestore>=1.4.0; platform_python_implementation != \"PyPy\" in /usr/local/lib/python3.6/dist-packages (from firebase-admin) (1.7.0)\n",
            "Requirement already satisfied: google-cloud-storage>=1.18.0 in /usr/local/lib/python3.6/dist-packages (from firebase-admin) (1.18.1)\n",
            "Requirement already satisfied: google-api-python-client>=1.7.8 in /usr/local/lib/python3.6/dist-packages (from firebase-admin) (1.7.12)\n",
            "Requirement already satisfied: msgpack>=0.5.2 in /usr/local/lib/python3.6/dist-packages (from cachecontrol>=0.12.6->firebase-admin) (1.0.0)\n",
            "Requirement already satisfied: requests in /usr/local/lib/python3.6/dist-packages (from cachecontrol>=0.12.6->firebase-admin) (2.11.1)\n",
            "Requirement already satisfied: six>=1.10.0 in /usr/local/lib/python3.6/dist-packages (from google-api-core[grpc]<2.0.0dev,>=1.14.0; platform_python_implementation != \"PyPy\"->firebase-admin) (1.12.0)\n",
            "Requirement already satisfied: setuptools>=34.0.0 in /usr/local/lib/python3.6/dist-packages (from google-api-core[grpc]<2.0.0dev,>=1.14.0; platform_python_implementation != \"PyPy\"->firebase-admin) (47.3.1)\n",
            "Requirement already satisfied: protobuf>=3.4.0 in /usr/local/lib/python3.6/dist-packages (from google-api-core[grpc]<2.0.0dev,>=1.14.0; platform_python_implementation != \"PyPy\"->firebase-admin) (3.10.0)\n",
            "Requirement already satisfied: google-auth<2.0dev,>=0.4.0 in /usr/local/lib/python3.6/dist-packages (from google-api-core[grpc]<2.0.0dev,>=1.14.0; platform_python_implementation != \"PyPy\"->firebase-admin) (1.17.2)\n",
            "Requirement already satisfied: googleapis-common-protos<2.0dev,>=1.6.0 in /usr/local/lib/python3.6/dist-packages (from google-api-core[grpc]<2.0.0dev,>=1.14.0; platform_python_implementation != \"PyPy\"->firebase-admin) (1.52.0)\n",
            "Requirement already satisfied: pytz in /usr/local/lib/python3.6/dist-packages (from google-api-core[grpc]<2.0.0dev,>=1.14.0; platform_python_implementation != \"PyPy\"->firebase-admin) (2018.9)\n",
            "Requirement already satisfied: grpcio<2.0dev,>=1.8.2; extra == \"grpc\" in /usr/local/lib/python3.6/dist-packages (from google-api-core[grpc]<2.0.0dev,>=1.14.0; platform_python_implementation != \"PyPy\"->firebase-admin) (1.29.0)\n",
            "Requirement already satisfied: google-cloud-core<2.0dev,>=1.0.3 in /usr/local/lib/python3.6/dist-packages (from google-cloud-firestore>=1.4.0; platform_python_implementation != \"PyPy\"->firebase-admin) (1.0.3)\n",
            "Requirement already satisfied: google-resumable-media<0.5.0dev,>=0.3.1 in /usr/local/lib/python3.6/dist-packages (from google-cloud-storage>=1.18.0->firebase-admin) (0.4.1)\n",
            "Requirement already satisfied: uritemplate<4dev,>=3.0.0 in /usr/local/lib/python3.6/dist-packages (from google-api-python-client>=1.7.8->firebase-admin) (3.0.1)\n",
            "Requirement already satisfied: httplib2<1dev,>=0.17.0 in /usr/local/lib/python3.6/dist-packages (from google-api-python-client>=1.7.8->firebase-admin) (0.17.4)\n",
            "Requirement already satisfied: google-auth-httplib2>=0.0.3 in /usr/local/lib/python3.6/dist-packages (from google-api-python-client>=1.7.8->firebase-admin) (0.0.3)\n",
            "Requirement already satisfied: rsa<5,>=3.1.4; python_version >= \"3\" in /usr/local/lib/python3.6/dist-packages (from google-auth<2.0dev,>=0.4.0->google-api-core[grpc]<2.0.0dev,>=1.14.0; platform_python_implementation != \"PyPy\"->firebase-admin) (4.6)\n",
            "Requirement already satisfied: cachetools<5.0,>=2.0.0 in /usr/local/lib/python3.6/dist-packages (from google-auth<2.0dev,>=0.4.0->google-api-core[grpc]<2.0.0dev,>=1.14.0; platform_python_implementation != \"PyPy\"->firebase-admin) (4.1.0)\n",
            "Requirement already satisfied: pyasn1-modules>=0.2.1 in /usr/local/lib/python3.6/dist-packages (from google-auth<2.0dev,>=0.4.0->google-api-core[grpc]<2.0.0dev,>=1.14.0; platform_python_implementation != \"PyPy\"->firebase-admin) (0.2.8)\n",
            "Requirement already satisfied: pyasn1>=0.1.3 in /usr/local/lib/python3.6/dist-packages (from rsa<5,>=3.1.4; python_version >= \"3\"->google-auth<2.0dev,>=0.4.0->google-api-core[grpc]<2.0.0dev,>=1.14.0; platform_python_implementation != \"PyPy\"->firebase-admin) (0.4.8)\n"
          ],
          "name": "stdout"
        }
      ]
    },
    {
      "cell_type": "markdown",
      "metadata": {
        "id": "liHtPu1HsseD",
        "colab_type": "text"
      },
      "source": [
        "**Importación de librerías**\n",
        "\n",
        "En python se usa el comando <b>import</b> para incorporar las librerías instaladas en la ejecución de los fragmentos de código en Python.  "
      ]
    },
    {
      "cell_type": "code",
      "metadata": {
        "id": "3og4JelFoqQL",
        "colab_type": "code",
        "colab": {}
      },
      "source": [
        "import pyrebase \n",
        "from firebase_admin import db\n",
        "import google.cloud\n",
        "from firebase_admin import credentials, firestore     "
      ],
      "execution_count": null,
      "outputs": []
    },
    {
      "cell_type": "markdown",
      "metadata": {
        "id": "wmU9B8Sith7d",
        "colab_type": "text"
      },
      "source": [
        "**Inicialización de credenciales**\n",
        "Las credenciales de Firebase son necesarias para la autenticación de la aplicación frente al uso de servicios en Firebase-Realtime, para ello:\n",
        "\n",
        "<p>Se construye el objeto JSON con las credenciales publicadas en la página de firebase</p>"
      ]
    },
    {
      "cell_type": "code",
      "metadata": {
        "id": "vJapSXtgst8b",
        "colab_type": "code",
        "colab": {}
      },
      "source": [
        "Config = {\n",
        "  'apiKey': \"<your key>\",\n",
        "  'authDomain': \"<your domain>\",\n",
        "  'databaseURL': \"https://diplomado-787d5.firebaseio.com\",\n",
        "  'projectId': \"diplomado-787d5\",\n",
        "  'storageBucket': \"diplomado-787d5.appspot.com\",\n",
        "  'messagingSenderId': \"465735963090\",\n",
        "  'appId': \"<your-api-id>\",\n",
        "  'measurementId': \"G-90DSQE33XK\"\n",
        "};\n",
        "firebase= pyrebase.initialize_app(Config)#Se inicializa la configuración de firebase\n",
        "db = firebase.database()#Se realiza la conexióón a la base de datos firebase\n",
        "\n"
      ],
      "execution_count": null,
      "outputs": []
    },
    {
      "cell_type": "markdown",
      "metadata": {
        "id": "2ypmjIwxtvne",
        "colab_type": "text"
      },
      "source": [
        "**Creación de Documentos en Firebase-RealTime**\n",
        "<br>\n",
        "Para la creación de registros en Firebase-Realtime, se debe tener en cuenta el objeto JSON con los respectivos atributos.\n",
        "\n",
        "<p>Creamos un nuevo documento llamado 'data' con los datos personales en la colección llamada 'practica'.<p>"
      ]
    },
    {
      "cell_type": "code",
      "metadata": {
        "id": "kd5UpAr7t1OV",
        "colab_type": "code",
        "colab": {
          "base_uri": "https://localhost:8080/",
          "height": 86
        },
        "outputId": "110de103-b6f4-4983-a67a-64d9aa3e9d81"
      },
      "source": [
        "data =  { 'nombre': 'maria',  \n",
        "          'codigo': 123,  \n",
        "          'carrera': 'ingenieria'  \n",
        "          }  \n",
        "data1 =  { 'nombre': 'tatiana',  \n",
        "          'codigo': 456,  \n",
        "          'carrera': 'ingenieria'  \n",
        "          } \n",
        "data2 =  { 'nombre': 'antonia',  \n",
        "          'codigo': 901,  \n",
        "          'carrera': 'matematicas'  \n",
        "} \n",
        "data3 =  { 'nombre': 'carolina',  \n",
        "          'codigo': 678,  \n",
        "          'carrera': 'sociologia'  \n",
        "}\n",
        "\n",
        "print(db.child(\"practica\").push(data))\n",
        "print(db.child(\"practica\").push(data1))\n",
        "print(db.child(\"practica\").push(data2))\n",
        "print(db.child(\"practica\").push(data3))\n"
      ],
      "execution_count": null,
      "outputs": [
        {
          "output_type": "stream",
          "text": [
            "{'name': '-MAFT9BaTETfSHXinI2H'}\n",
            "{'name': '-MAFT9E8dxTNmqgBJF3V'}\n",
            "{'name': '-MAFT9GhZoNOS51TRN2L'}\n",
            "{'name': '-MAFT9JHSISoAuRBunMp'}\n"
          ],
          "name": "stdout"
        }
      ]
    },
    {
      "cell_type": "markdown",
      "metadata": {
        "id": "eH-6oDFsCrrq",
        "colab_type": "text"
      },
      "source": [
        "**Lectura de Documentos en Firebase-Realtime**\n",
        "\n",
        "\n",
        "<p>Leer los datos que se encuentran en la colección 'practica', se usa un for para imprimir los valores de la colección.<p>"
      ]
    },
    {
      "cell_type": "code",
      "metadata": {
        "id": "XRN5f7tfCyJA",
        "colab_type": "code",
        "colab": {
          "base_uri": "https://localhost:8080/",
          "height": 191
        },
        "outputId": "74c933ec-2faf-448b-a448-e64b3a8eef6f"
      },
      "source": [
        "snapshot = db.child('practica').get()\n",
        "\n",
        "try:\n",
        "    for est in snapshot.each():\n",
        "        print(est.val())\n",
        "        print(\"La carrera de \"+est.val()[\"nombre\"]+\" es \"+est.val()[\"carrera\"])\n",
        "except Exception as e:\n",
        "    print(\"Unexpected error:\",e)\n"
      ],
      "execution_count": null,
      "outputs": [
        {
          "output_type": "stream",
          "text": [
            "{'carrera': 'Nueva Carrera', 'codigo': 123, 'nombre': 'Nuevo nombre'}\n",
            "La carrera de Nuevo nombre es Nueva Carrera\n",
            "{'carrera': 'ingenieria', 'codigo': 456, 'nombre': 'tatiana'}\n",
            "La carrera de tatiana es ingenieria\n",
            "{'carrera': 'matematicas', 'codigo': 901, 'nombre': 'antonia'}\n",
            "La carrera de antonia es matematicas\n",
            "{'carrera': 'sociologia', 'codigo': 678, 'nombre': 'carolina'}\n",
            "La carrera de carolina es sociologia\n",
            "{'carrera': 'Nueva Carrera', 'nombre': 'Nuevo nombre'}\n",
            "La carrera de Nuevo nombre es Nueva Carrera\n"
          ],
          "name": "stdout"
        }
      ]
    },
    {
      "cell_type": "markdown",
      "metadata": {
        "id": "qGF4RF0aCwdH",
        "colab_type": "text"
      },
      "source": [
        "**Actualización de Documentos en Firebase-RealTime por ID-Child**\n",
        "\n",
        "<br>\n",
        "Para la actualización de documentos en Firebase-RealTime, se debe tener en cuenta el nombre de la colección y el nombre del documento, con los respectivos atributos actualizar.\n",
        "<br>\n",
        "Actualizamos los campos creados anteriormente y añadimos dos campos nuevos."
      ]
    },
    {
      "cell_type": "code",
      "metadata": {
        "id": "5BiMvtpfC6r7",
        "colab_type": "code",
        "colab": {
          "base_uri": "https://localhost:8080/",
          "height": 34
        },
        "outputId": "6818009d-dd96-4bc4-fbbd-58123e2b37e8"
      },
      "source": [
        "newObject={\n",
        "    \"nombre\":\"Nuevo nombre\",\n",
        "    \"carrera\":\"Nueva Carrera\"\n",
        "}\n",
        "db.child(\"practica\").child(\"<Nuevo Child id>\").update(newObject)"
      ],
      "execution_count": null,
      "outputs": [
        {
          "output_type": "execute_result",
          "data": {
            "text/plain": [
              "{'carrera': 'Nueva Carrera', 'nombre': 'Nuevo nombre'}"
            ]
          },
          "metadata": {
            "tags": []
          },
          "execution_count": 53
        }
      ]
    },
    {
      "cell_type": "markdown",
      "metadata": {
        "id": "KFxzFAG8TvTA",
        "colab_type": "text"
      },
      "source": [
        "**Actualización de Documentos en Firebase-RealTime por ID-Child**\n",
        "\n",
        "Para la actualización de documentos en Firebase-RealTime, se debe tener en cuenta el nombre de la colección y el nombre del documento, con los respectivos atributos actualizar.\n",
        "Actualizamos los campos creados anteriormente y añadimos dos campos nuevos."
      ]
    },
    {
      "cell_type": "code",
      "metadata": {
        "id": "iBJY6jWYTwSI",
        "colab_type": "code",
        "colab": {}
      },
      "source": [
        "snapshot = db.child('practica').get()\n",
        "newObject={\n",
        "    \"nombre\":\"Nuevo nombre\",\n",
        "    \"carrera\":\"Nueva Carrera\"\n",
        "}\n",
        "try:\n",
        "    for est in snapshot.each():\n",
        "        if(est.val()['nombre']==\"maria\"):\n",
        "            child_id=est.key()\n",
        "            db.child(\"practica\").child(child_id).update(newObject)\n",
        "        \n",
        "except Exception as e:\n",
        "    print(\"Unexpected error:\",e)\n",
        "\n"
      ],
      "execution_count": null,
      "outputs": []
    },
    {
      "cell_type": "markdown",
      "metadata": {
        "id": "y15N7-1JTRGr",
        "colab_type": "text"
      },
      "source": [
        "**Eliminación de un Documento en Firebase**\n",
        "\n",
        "Para la eliminación de un documento en Firebase, se debe tener en cuenta el nombre de la colección y el id child.\n",
        "Eliminar un documento de la colección 'practica'"
      ]
    },
    {
      "cell_type": "code",
      "metadata": {
        "id": "9BoHyet1TPDG",
        "colab_type": "code",
        "colab": {}
      },
      "source": [
        "db.child(\"practica\").child(\"\").remove()#Elimina todos los registros"
      ],
      "execution_count": null,
      "outputs": []
    },
    {
      "cell_type": "markdown",
      "metadata": {
        "id": "x60JMrtHC7Lt",
        "colab_type": "text"
      },
      "source": [
        "**Eliminación de Documentos en Firebase**\n",
        "\n",
        "<br>\n",
        "Para la eliminación de documentos en Firebase, se debe tener en cuenta el nombre de la colección y el nombre del documento.<br>\n",
        "Eliminar campos de la colección 'practica'"
      ]
    },
    {
      "cell_type": "code",
      "metadata": {
        "id": "os4PHa_FDCcn",
        "colab_type": "code",
        "colab": {}
      },
      "source": [
        "db.child(\"practica\").remove()#Elimina todos los registros"
      ],
      "execution_count": null,
      "outputs": []
    }
  ]
}